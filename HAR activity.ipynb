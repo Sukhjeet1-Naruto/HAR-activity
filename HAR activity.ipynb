{
 "cells": [
  {
   "cell_type": "code",
   "execution_count": 19,
   "metadata": {
    "colab": {
     "base_uri": "https://localhost:8080/"
    },
    "executionInfo": {
     "elapsed": 16249,
     "status": "ok",
     "timestamp": 1643149908533,
     "user": {
      "displayName": "Sukhjeet Singh",
      "photoUrl": "https://lh3.googleusercontent.com/a-/AOh14Ggb1W1TRycUBr_aEexYuQ6rsIqXMQ6WwqXm3aPk=s64",
      "userId": "06081946453271941418"
     },
     "user_tz": 480
    },
    "id": "_4_qkPftxMII",
    "outputId": "2b59462d-bda0-48a9-e598-2719113b0bb8",
    "scrolled": true
   },
   "outputs": [],
   "source": [
    "# from google.colab import drive\n",
    "# drive.mount('/content/drive')"
   ]
  },
  {
   "cell_type": "markdown",
   "metadata": {
    "id": "ieeJuMPYKEnC"
   },
   "source": []
  },
  {
   "cell_type": "code",
   "execution_count": 2,
   "metadata": {
    "colab": {
     "base_uri": "https://localhost:8080/"
    },
    "executionInfo": {
     "elapsed": 179,
     "status": "ok",
     "timestamp": 1643149919570,
     "user": {
      "displayName": "Sukhjeet Singh",
      "photoUrl": "https://lh3.googleusercontent.com/a-/AOh14Ggb1W1TRycUBr_aEexYuQ6rsIqXMQ6WwqXm3aPk=s64",
      "userId": "06081946453271941418"
     },
     "user_tz": 480
    },
    "id": "AleDWJ1sqCLs",
    "outputId": "f35d4222-2021-492b-de97-ec2e49175e15"
   },
   "outputs": [
    {
     "name": "stdout",
     "output_type": "stream",
     "text": [
      "/content/drive/MyDrive/AnalyticsProject\n"
     ]
    }
   ],
   "source": [
    "# cd '/content/drive/MyDrive/AnalyticsProject'"
   ]
  },
  {
   "cell_type": "code",
   "execution_count": 2,
   "metadata": {
    "executionInfo": {
     "elapsed": 814,
     "status": "ok",
     "timestamp": 1643149923992,
     "user": {
      "displayName": "Sukhjeet Singh",
      "photoUrl": "https://lh3.googleusercontent.com/a-/AOh14Ggb1W1TRycUBr_aEexYuQ6rsIqXMQ6WwqXm3aPk=s64",
      "userId": "06081946453271941418"
     },
     "user_tz": 480
    },
    "id": "tBycQOTh7eul"
   },
   "outputs": [],
   "source": [
    "import numpy as np\n",
    "import pandas as pd\n",
    "from numpy import dstack\n",
    "from pandas import read_csv\n",
    "from sklearn.metrics import accuracy_score\n",
    "from sklearn.neighbors import KNeighborsClassifier\n",
    "from sklearn.naive_bayes import GaussianNB\n",
    "from sklearn.ensemble import RandomForestClassifier\n"
   ]
  },
  {
   "cell_type": "code",
   "execution_count": 5,
   "metadata": {
    "executionInfo": {
     "elapsed": 2294,
     "status": "ok",
     "timestamp": 1643149929249,
     "user": {
      "displayName": "Sukhjeet Singh",
      "photoUrl": "https://lh3.googleusercontent.com/a-/AOh14Ggb1W1TRycUBr_aEexYuQ6rsIqXMQ6WwqXm3aPk=s64",
      "userId": "06081946453271941418"
     },
     "user_tz": 480
    },
    "id": "1erx7ZCa7UuR"
   },
   "outputs": [],
   "source": [
    "#train dataset \n",
    "X_train = pd.read_csv('HARdataset/train/X_train.txt',delim_whitespace=True,header=None).to_numpy()"
   ]
  },
  {
   "cell_type": "code",
   "execution_count": 7,
   "metadata": {
    "executionInfo": {
     "elapsed": 375,
     "status": "ok",
     "timestamp": 1643149930735,
     "user": {
      "displayName": "Sukhjeet Singh",
      "photoUrl": "https://lh3.googleusercontent.com/a-/AOh14Ggb1W1TRycUBr_aEexYuQ6rsIqXMQ6WwqXm3aPk=s64",
      "userId": "06081946453271941418"
     },
     "user_tz": 480
    },
    "id": "vGM5ZxRa7U9b"
   },
   "outputs": [],
   "source": [
    "#train dataset labels\n",
    "y_train = pd.read_csv('HARdataset/train/y_train.txt',delim_whitespace=True,header=None).to_numpy().reshape(-1)"
   ]
  },
  {
   "cell_type": "code",
   "execution_count": 8,
   "metadata": {
    "executionInfo": {
     "elapsed": 971,
     "status": "ok",
     "timestamp": 1643149933139,
     "user": {
      "displayName": "Sukhjeet Singh",
      "photoUrl": "https://lh3.googleusercontent.com/a-/AOh14Ggb1W1TRycUBr_aEexYuQ6rsIqXMQ6WwqXm3aPk=s64",
      "userId": "06081946453271941418"
     },
     "user_tz": 480
    },
    "id": "AyQ7kA7k7VDw"
   },
   "outputs": [],
   "source": [
    "#test dataset\n",
    "X_test = pd.read_csv('HARdataset/test/X_test.txt',delim_whitespace=True,header=None).to_numpy()"
   ]
  },
  {
   "cell_type": "code",
   "execution_count": 9,
   "metadata": {
    "executionInfo": {
     "elapsed": 386,
     "status": "ok",
     "timestamp": 1643149934034,
     "user": {
      "displayName": "Sukhjeet Singh",
      "photoUrl": "https://lh3.googleusercontent.com/a-/AOh14Ggb1W1TRycUBr_aEexYuQ6rsIqXMQ6WwqXm3aPk=s64",
      "userId": "06081946453271941418"
     },
     "user_tz": 480
    },
    "id": "VHIEjM8m7VGZ"
   },
   "outputs": [],
   "source": [
    "#test labels\n",
    "y_test = pd.read_csv('HARdataset/test/y_test.txt',delim_whitespace=True,header=None).to_numpy().reshape(-1)"
   ]
  },
  {
   "cell_type": "code",
   "execution_count": 10,
   "metadata": {
    "colab": {
     "base_uri": "https://localhost:8080/"
    },
    "executionInfo": {
     "elapsed": 1153,
     "status": "ok",
     "timestamp": 1643149935747,
     "user": {
      "displayName": "Sukhjeet Singh",
      "photoUrl": "https://lh3.googleusercontent.com/a-/AOh14Ggb1W1TRycUBr_aEexYuQ6rsIqXMQ6WwqXm3aPk=s64",
      "userId": "06081946453271941418"
     },
     "user_tz": 480
    },
    "id": "hzvd_mB8qCN0",
    "outputId": "e96f2d0d-de45-425f-fd9a-e76baa51f4a2"
   },
   "outputs": [
    {
     "name": "stdout",
     "output_type": "stream",
     "text": [
      "[5 5 5 ... 2 2 1]\n",
      "Accuracy of KNN: 89.07363420427554\n"
     ]
    }
   ],
   "source": [
    "#Clustering\n",
    "#Model 1\n",
    "model_1 =  KNeighborsClassifier(n_neighbors=3)\n",
    "model_1.fit(X_train,y_train)\n",
    "prediction_1 = model_1.predict(X_test)\n",
    "print(prediction_1)\n",
    "accuracy_1 = accuracy_score(y_test, prediction_1)\n",
    "print(\"Accuracy of KNN:\", accuracy_1 * 100.0)"
   ]
  },
  {
   "cell_type": "code",
   "execution_count": 11,
   "metadata": {
    "colab": {
     "base_uri": "https://localhost:8080/"
    },
    "executionInfo": {
     "elapsed": 148,
     "status": "ok",
     "timestamp": 1643149937070,
     "user": {
      "displayName": "Sukhjeet Singh",
      "photoUrl": "https://lh3.googleusercontent.com/a-/AOh14Ggb1W1TRycUBr_aEexYuQ6rsIqXMQ6WwqXm3aPk=s64",
      "userId": "06081946453271941418"
     },
     "user_tz": 480
    },
    "id": "BZ1m6M6Y0Ese",
    "outputId": "0d6fee9d-0a9b-4339-d20d-caa736749a5a"
   },
   "outputs": [
    {
     "name": "stdout",
     "output_type": "stream",
     "text": [
      "[5 5 5 ... 2 2 2]\n",
      "Accuracy of Naive Bias: 77.02748557855446\n"
     ]
    }
   ],
   "source": [
    "#Classification ..\n",
    "#Model_2\n",
    "model_2 = GaussianNB()\n",
    "model_2.fit(X_train,y_train)\n",
    "prediction_2 = model_2.predict(X_test)\n",
    "accuracy_2 = accuracy_score(y_test, prediction_2)\n",
    "print(prediction_2)\n",
    "print(\"Accuracy of Naive Bias:\", accuracy_2 * 100.0)"
   ]
  },
  {
   "cell_type": "code",
   "execution_count": 12,
   "metadata": {
    "colab": {
     "base_uri": "https://localhost:8080/"
    },
    "executionInfo": {
     "elapsed": 4,
     "status": "ok",
     "timestamp": 1643149938942,
     "user": {
      "displayName": "Sukhjeet Singh",
      "photoUrl": "https://lh3.googleusercontent.com/a-/AOh14Ggb1W1TRycUBr_aEexYuQ6rsIqXMQ6WwqXm3aPk=s64",
      "userId": "06081946453271941418"
     },
     "user_tz": 480
    },
    "id": "fC_hmUNLAzjJ",
    "outputId": "221feb07-45b2-4c13-a6a9-99b3f72df628"
   },
   "outputs": [
    {
     "data": {
      "text/plain": [
       "2947"
      ]
     },
     "execution_count": 12,
     "metadata": {},
     "output_type": "execute_result"
    }
   ],
   "source": [
    "len(y_test)"
   ]
  },
  {
   "cell_type": "markdown",
   "metadata": {
    "id": "I85u4e3F-HJJ"
   },
   "source": [
    "##TESTING\n",
    "\n",
    "\n"
   ]
  },
  {
   "cell_type": "code",
   "execution_count": 13,
   "metadata": {
    "colab": {
     "base_uri": "https://localhost:8080/"
    },
    "executionInfo": {
     "elapsed": 517,
     "status": "ok",
     "timestamp": 1643149941026,
     "user": {
      "displayName": "Sukhjeet Singh",
      "photoUrl": "https://lh3.googleusercontent.com/a-/AOh14Ggb1W1TRycUBr_aEexYuQ6rsIqXMQ6WwqXm3aPk=s64",
      "userId": "06081946453271941418"
     },
     "user_tz": 480
    },
    "id": "fHNIk8lj-23d",
    "outputId": "088e3597-d3d6-417b-fe17-f10abcb09a27"
   },
   "outputs": [
    {
     "data": {
      "text/plain": [
       "array(['WALKING', 'WALKING_UPSTAIRS', 'WALKING_DOWNSTAIRS', 'SITTING',\n",
       "       'STANDING', 'LAYING'], dtype=object)"
      ]
     },
     "execution_count": 13,
     "metadata": {},
     "output_type": "execute_result"
    }
   ],
   "source": [
    "activity_label = pd.read_csv('HARDataset/activity_labels.txt',delim_whitespace=True,header=None).to_numpy()\n",
    "activity_label[:,1]\n",
    "action = activity_label[:,1]\n",
    "action\n",
    "# action = ['Walking','Walking Upstairs','Walking Downstairs','Sitting','Standing','Laying']"
   ]
  },
  {
   "cell_type": "code",
   "execution_count": 14,
   "metadata": {
    "colab": {
     "base_uri": "https://localhost:8080/"
    },
    "executionInfo": {
     "elapsed": 154,
     "status": "ok",
     "timestamp": 1643149942612,
     "user": {
      "displayName": "Sukhjeet Singh",
      "photoUrl": "https://lh3.googleusercontent.com/a-/AOh14Ggb1W1TRycUBr_aEexYuQ6rsIqXMQ6WwqXm3aPk=s64",
      "userId": "06081946453271941418"
     },
     "user_tz": 480
    },
    "id": "I11jiJ-B16EH",
    "outputId": "fc18fa50-aae3-4879-c69e-5220a6fe12ee"
   },
   "outputs": [
    {
     "name": "stdout",
     "output_type": "stream",
     "text": [
      "KNN prediction: WALKING_UPSTAIRS\n",
      "Naive Bias Prediction: WALKING_DOWNSTAIRS\n",
      "Real label: WALKING_DOWNSTAIRS\n"
     ]
    }
   ],
   "source": [
    "i = 2946\n",
    "input = X_test[i].reshape(1, -1)\n",
    "pred_1 =  model_1.predict(input)\n",
    "pred_2 = model_2.predict(input)\n",
    "\n",
    "print(\"KNN prediction:\", action[int(pred_1)])\n",
    "print(\"Naive Bias Prediction:\", action[int(pred_2)])\n",
    "print(\"Real label:\",action[y_test[i]])"
   ]
  },
  {
   "cell_type": "markdown",
   "metadata": {
    "id": "O081GgoPsdip"
   },
   "source": [
    "Confusion Matrix : The performance of a classification model"
   ]
  },
  {
   "cell_type": "code",
   "execution_count": 15,
   "metadata": {
    "colab": {
     "base_uri": "https://localhost:8080/",
     "height": 945
    },
    "executionInfo": {
     "elapsed": 1426,
     "status": "ok",
     "timestamp": 1643149946175,
     "user": {
      "displayName": "Sukhjeet Singh",
      "photoUrl": "https://lh3.googleusercontent.com/a-/AOh14Ggb1W1TRycUBr_aEexYuQ6rsIqXMQ6WwqXm3aPk=s64",
      "userId": "06081946453271941418"
     },
     "user_tz": 480
    },
    "id": "-eOZNY6wGZvl",
    "outputId": "650acfd7-8ce1-404b-af3c-b62875bc9259"
   },
   "outputs": [
    {
     "name": "stdout",
     "output_type": "stream",
     "text": [
      "[[481   4  11   0   0   0]\n",
      " [ 36 422  13   0   0   0]\n",
      " [ 49  42 329   0   0   0]\n",
      " [  0   3   0 383 105   0]\n",
      " [  0   0   0  57 475   0]\n",
      " [  0   0   0   1   1 535]]\n"
     ]
    },
    {
     "data": {
      "text/plain": [
       "Text(389.93375000000003, 0.5, 'predicted label')"
      ]
     },
     "execution_count": 15,
     "metadata": {},
     "output_type": "execute_result"
    },
    {
     "data": {
      "image/png": "[encoded data removed]",
      "text/plain": [
       "<Figure size 1440x864 with 1 Axes>"
      ]
     },
     "metadata": {
      "needs_background": "light"
     },
     "output_type": "display_data"
    }
   ],
   "source": [
    "from sklearn.metrics import confusion_matrix\n",
    "import matplotlib.pyplot as plt\n",
    "plt.figure(figsize=(20,12))\n",
    "import seaborn as sns\n",
    "prediction_1 = model_1.predict(X_test)\n",
    "mat = confusion_matrix(y_test, prediction_1)\n",
    "print(mat)\n",
    "sns.heatmap(mat, square=True, annot=True, fmt='d', cbar=False,\n",
    "            xticklabels=action, yticklabels=action)\n",
    "\n",
    "plt.xlabel('true label')\n",
    "plt.ylabel('predicted label')"
   ]
  },
  {
   "cell_type": "code",
   "execution_count": 16,
   "metadata": {
    "colab": {
     "base_uri": "https://localhost:8080/",
     "height": 858
    },
    "executionInfo": {
     "elapsed": 556,
     "status": "ok",
     "timestamp": 1643149949109,
     "user": {
      "displayName": "Sukhjeet Singh",
      "photoUrl": "https://lh3.googleusercontent.com/a-/AOh14Ggb1W1TRycUBr_aEexYuQ6rsIqXMQ6WwqXm3aPk=s64",
      "userId": "06081946453271941418"
     },
     "user_tz": 480
    },
    "id": "qdViMlNhSRXA",
    "outputId": "6ee21eda-df0f-4c0f-d0bc-328ce407585a"
   },
   "outputs": [
    {
     "data": {
      "text/plain": [
       "Text(388.34000000000003, 0.5, 'Predicted labels')"
      ]
     },
     "execution_count": 16,
     "metadata": {},
     "output_type": "execute_result"
    },
    {
     "data": {
      "image/png": "[encoded data removed]",
      "text/plain": [
       "<Figure size 1440x864 with 1 Axes>"
      ]
     },
     "metadata": {},
     "output_type": "display_data"
    }
   ],
   "source": [
    "sns.set()\n",
    "prediction_2 = model_2.predict(X_test)\n",
    "plt.figure(figsize=(20,12))\n",
    "# The performance of a classification model\n",
    "\n",
    "mat_2 = confusion_matrix(y_test, prediction_2)\n",
    "\n",
    "sns.heatmap(mat_2, square=True, annot=True, fmt='d', cbar=False,\n",
    "            xticklabels=action, yticklabels=action)\n",
    "plt.xlabel('Supervised labels')\n",
    "plt.ylabel('Predicted labels')"
   ]
  },
  {
   "cell_type": "code",
   "execution_count": null,
   "metadata": {
    "id": "hNxUqOUCu-kT"
   },
   "outputs": [],
   "source": []
  },
  {
   "cell_type": "markdown",
   "metadata": {
    "id": "U2TpbNlDrN8g"
   },
   "source": [
    "Correlation matrix graph for the train data\n"
   ]
  },
  {
   "cell_type": "code",
   "execution_count": 17,
   "metadata": {
    "colab": {
     "base_uri": "https://localhost:8080/"
    },
    "executionInfo": {
     "elapsed": 19415,
     "status": "ok",
     "timestamp": 1643149970927,
     "user": {
      "displayName": "Sukhjeet Singh",
      "photoUrl": "https://lh3.googleusercontent.com/a-/AOh14Ggb1W1TRycUBr_aEexYuQ6rsIqXMQ6WwqXm3aPk=s64",
      "userId": "06081946453271941418"
     },
     "user_tz": 480
    },
    "id": "Q2Dr9NAAbqLi",
    "outputId": "4da0f06e-afbc-42b7-88ab-2d6fafb8ed61"
   },
   "outputs": [
    {
     "name": "stdout",
     "output_type": "stream",
     "text": [
      "[5 5 5 ... 2 2 2]\n",
      "Accuracy of Random Forest: 93.21343739395996\n"
     ]
    }
   ],
   "source": [
    "#Clustering\n",
    "#Model 3\n",
    "model_3 =  RandomForestClassifier(n_estimators=100)\n",
    "model_3.fit(X_train,y_train)\n",
    "prediction_3 = model_3.predict(X_test)\n",
    "print(prediction_3)\n",
    "accuracy_3 = accuracy_score(y_test, prediction_3)\n",
    "print(\"Accuracy of Random Forest:\", accuracy_3 * 100.0)"
   ]
  },
  {
   "cell_type": "code",
   "execution_count": 18,
   "metadata": {
    "colab": {
     "base_uri": "https://localhost:8080/",
     "height": 858
    },
    "executionInfo": {
     "elapsed": 424,
     "status": "ok",
     "timestamp": 1643149971349,
     "user": {
      "displayName": "Sukhjeet Singh",
      "photoUrl": "https://lh3.googleusercontent.com/a-/AOh14Ggb1W1TRycUBr_aEexYuQ6rsIqXMQ6WwqXm3aPk=s64",
      "userId": "06081946453271941418"
     },
     "user_tz": 480
    },
    "id": "Eaa2ZBE4bqMq",
    "outputId": "4aee6c97-447d-4a69-eb75-ab6aac15acb7"
   },
   "outputs": [
    {
     "data": {
      "text/plain": [
       "Text(388.34000000000003, 0.5, 'Predicted labels')"
      ]
     },
     "execution_count": 18,
     "metadata": {},
     "output_type": "execute_result"
    },
    {
     "data": {
      "image/png": "[encoded data removed]",
      "text/plain": [
       "<Figure size 1440x864 with 1 Axes>"
      ]
     },
     "metadata": {},
     "output_type": "display_data"
    }
   ],
   "source": [
    "sns.set()\n",
    "prediction_3 = model_3.predict(X_test)\n",
    "plt.figure(figsize=(20,12))\n",
    "# The performance of a classification model\n",
    "\n",
    "mat_3 = confusion_matrix(y_test, prediction_3)\n",
    "\n",
    "sns.heatmap(mat_3, square=True, annot=True, fmt='d', cbar=False,\n",
    "            xticklabels=action, yticklabels=action)\n",
    "plt.xlabel('Supervised labels')\n",
    "plt.ylabel('Predicted labels')\n",
    "\n",
    "\n",
    "\n",
    "\n"
   ]
  },
  {
   "cell_type": "code",
   "execution_count": null,
   "metadata": {},
   "outputs": [],
   "source": []
  },
  {
   "cell_type": "code",
   "execution_count": null,
   "metadata": {},
   "outputs": [],
   "source": []
  }
 ],
 "metadata": {
  "accelerator": "GPU",
  "colab": {
   "collapsed_sections": [],
   "name": "HAR01.ipynb",
   "provenance": []
  },
  "kernelspec": {
   "display_name": "Python 3",
   "language": "python",
   "name": "python3"
  },
  "language_info": {
   "codemirror_mode": {
    "name": "ipython",
    "version": 3
   },
   "file_extension": ".py",
   "mimetype": "text/x-python",
   "name": "python",
   "nbconvert_exporter": "python",
   "pygments_lexer": "ipython3",
   "version": "3.8.8"
  }
 },
 "nbformat": 4,
 "nbformat_minor": 1
}
